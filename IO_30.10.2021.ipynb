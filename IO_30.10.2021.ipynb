{
  "nbformat": 4,
  "nbformat_minor": 0,
  "metadata": {
    "colab": {
      "name": "Untitled0.ipynb",
      "provenance": [],
      "authorship_tag": "ABX9TyMLubZoUNSP5puPnio+ZJ/a",
      "include_colab_link": true
    },
    "kernelspec": {
      "name": "python3",
      "display_name": "Python 3"
    },
    "language_info": {
      "name": "python"
    }
  },
  "cells": [
    {
      "cell_type": "markdown",
      "metadata": {
        "id": "view-in-github",
        "colab_type": "text"
      },
      "source": [
        "<a href=\"https://colab.research.google.com/github/maciejlehmann/inteligencjaObliczeniowaWSB/blob/main/IO_30.10.2021.ipynb\" target=\"_parent\"><img src=\"https://colab.research.google.com/assets/colab-badge.svg\" alt=\"Open In Colab\"/></a>"
      ]
    },
    {
      "cell_type": "code",
      "metadata": {
        "colab": {
          "base_uri": "https://localhost:8080/",
          "height": 35
        },
        "id": "bAqk5lQw3ePs",
        "outputId": "209dcf21-25eb-49d0-8517-3d0f4dba054c"
      },
      "source": [
        "def obcinaj(s):\n",
        "  return s[1:len(s)-1]\n",
        "\n",
        "obcinaj('lato')"
      ],
      "execution_count": null,
      "outputs": [
        {
          "output_type": "execute_result",
          "data": {
            "application/vnd.google.colaboratory.intrinsic+json": {
              "type": "string"
            },
            "text/plain": [
              "'at'"
            ]
          },
          "metadata": {},
          "execution_count": 14
        }
      ]
    },
    {
      "cell_type": "code",
      "metadata": {
        "colab": {
          "base_uri": "https://localhost:8080/"
        },
        "id": "zWpKzIWe3yo-",
        "outputId": "8f86975f-865e-4ae5-ea02-15f26ba687a9"
      },
      "source": [
        "def max_sum(a, b, c):\n",
        "    nums = set([a, b, c])\n",
        "    smallest = min(nums)\n",
        "    nums.remove(smallest)\n",
        "    print(sum(nums))\n",
        "\n",
        "max_sum(5,9,2)"
      ],
      "execution_count": null,
      "outputs": [
        {
          "output_type": "stream",
          "name": "stdout",
          "text": [
            "14\n"
          ]
        }
      ]
    },
    {
      "cell_type": "code",
      "metadata": {
        "colab": {
          "base_uri": "https://localhost:8080/"
        },
        "id": "Lc5jKVO_5Bf-",
        "outputId": "285143e4-feb5-4a57-d833-2b8ae39ecc45"
      },
      "source": [
        "def wybierz_parzyste(a):\n",
        "  lista=[]\n",
        "  for x in a:\n",
        "    if x%2==0:\n",
        "      lista.append(x)\n",
        "  return lista\n",
        "\n",
        "wybierz_parzyste([1,2,3,4,5,6,7,8,9,10])"
      ],
      "execution_count": null,
      "outputs": [
        {
          "output_type": "execute_result",
          "data": {
            "text/plain": [
              "[2, 4, 6, 8, 10]"
            ]
          },
          "metadata": {},
          "execution_count": 16
        }
      ]
    },
    {
      "cell_type": "code",
      "metadata": {
        "colab": {
          "base_uri": "https://localhost:8080/"
        },
        "id": "17qCSotI5B68",
        "outputId": "3a724a9c-bcfe-4733-ded5-0d44de96d7e9"
      },
      "source": [
        "def pole_trapezu(a, b, h):\n",
        "  pole = ((a+b)*h/2);\n",
        "  print(pole)\n",
        "\n",
        "pole_trapezu(4,4,2)"
      ],
      "execution_count": null,
      "outputs": [
        {
          "output_type": "stream",
          "name": "stdout",
          "text": [
            "8.0\n"
          ]
        }
      ]
    },
    {
      "cell_type": "code",
      "metadata": {
        "colab": {
          "base_uri": "https://localhost:8080/"
        },
        "id": "6A_6LHWm6nZV",
        "outputId": "071babca-8790-4da5-8c43-10f87b7c540c"
      },
      "source": [
        "import numpy as np\n",
        "\n",
        "x = np.array([3,8,9,10,12])\n",
        "y = np.array([8,7,7,5,6])\n",
        "\n",
        "print('Suma = ', x+y)\n",
        "print('Iloczyn = ', x*y)\n",
        "\n",
        "print('Iloczyn skalarny = ', np.dot(x,y))\n",
        "print('Długość euklidesowa = ', round(np.linalg.norm(x),2))\n",
        "\n",
        "arr1 = np.matrix([[1,2,3],[4,5,6],[7,8,9]])\n",
        "arr2 = np.matrix([[1,2,1],[2,4,6],[7,2,5]])\n",
        "\n",
        "print('Iloczyn macierzy =')\n",
        "print(arr1*arr2)\n",
        "\n",
        "random = np.random.randint(low=0, high=100, size=(50,))\n",
        "print('Wektor 50 randomowych liczb = ',random)\n",
        "\n",
        "print('Średnia = ',np.mean(random))\n",
        "print('Max = ',np.max(random))\n",
        "print('Min = ',np.min(random))\n",
        "print('Odchylenie standardowe = ',round(np.std(random),2))\n",
        "\n",
        "norm = random/np.linalg.norm(random)\n",
        "print('Normaliacja =')\n",
        "print(norm)"
      ],
      "execution_count": null,
      "outputs": [
        {
          "output_type": "stream",
          "name": "stdout",
          "text": [
            "Suma =  [11 15 16 15 18]\n",
            "Iloczyn =  [24 56 63 50 72]\n",
            "Iloczyn skalarny =  265\n",
            "Długość euklidesowa =  19.95\n",
            "Iloczyn macierzy =\n",
            "[[ 26  16  28]\n",
            " [ 56  40  64]\n",
            " [ 86  64 100]]\n",
            "Wektor 50 randomowych liczb =  [14 57 34 56 85 27  0 89 97 32 58 43 40 90 24 98  1 94 55  8 36 60  6 42\n",
            " 46  9 21 26 28 16 10 59 40 63 51 60 36  7 77 59 40 72 86 13  9  5 86 44\n",
            "  5 31]\n",
            "Średnia =  42.9\n",
            "Max =  98\n",
            "Min =  0\n",
            "Odchylenie standardowe =  28.63\n",
            "Normaliacja =\n",
            "[0.03838961 0.15630053 0.0932319  0.15355842 0.23307975 0.0740371\n",
            " 0.         0.2440482  0.26598512 0.08774767 0.15904265 0.11791093\n",
            " 0.10968459 0.24679032 0.06581075 0.26872724 0.00274211 0.25775878\n",
            " 0.15081631 0.02193692 0.09871613 0.16452688 0.01645269 0.11516882\n",
            " 0.12613727 0.02467903 0.05758441 0.07129498 0.07677921 0.04387383\n",
            " 0.02742115 0.16178476 0.10968459 0.17275322 0.13984785 0.16452688\n",
            " 0.09871613 0.0191948  0.21114283 0.16178476 0.10968459 0.19743225\n",
            " 0.23582186 0.03564749 0.02467903 0.01371057 0.23582186 0.12065304\n",
            " 0.01371057 0.08500555]\n"
          ]
        }
      ]
    },
    {
      "cell_type": "code",
      "metadata": {
        "colab": {
          "base_uri": "https://localhost:8080/",
          "height": 1000
        },
        "id": "p9eswtSF72DO",
        "outputId": "045f1643-1b31-4742-8946-7ed1d1fe80d2"
      },
      "source": [
        "import pandas as pd\n",
        "import matplotlib.pyplot as plt\n",
        "\n",
        "table = pd.read_csv('miasta.csv')\n",
        "df = pd.DataFrame(table)\n",
        "print(table)\n",
        "\n",
        "new_row = pd.DataFrame([[2010,460,555,405]], columns=['Rok', 'Gdansk', 'Poznan', 'Szczecin'])\n",
        "new_df = df.append(new_row)\n",
        "print(new_df)\n",
        "\n",
        "columns = ['Rok', 'Gdansk']\n",
        "lata = new_df['Rok']\n",
        "gdansk_ludnosc = new_df['Gdansk']\n",
        "poznan_ludnosc = new_df['Poznan']\n",
        "szczecin_ludnosc = new_df['Szczecin']\n",
        "print(gdansk_rok)\n",
        "print(gdansk_ludnosc)\n",
        "\n",
        "plt.plot(lata, gdansk_ludnosc, color='red', marker='o', label='Gdańsk')\n",
        "plt.plot(lata, poznan_ludnosc, color='green', marker='o', label='Poznań')\n",
        "plt.plot(lata, szczecin_ludnosc, color='blue', marker='o', label='Szczecin')\n",
        "plt.title('Ludność w miastach Polski')\n",
        "plt.xlabel('Lata')\n",
        "plt.ylabel('Liczba ludności [w tyś.]')\n",
        "plt.legend(loc=\"upper left\")\n",
        "\n"
      ],
      "execution_count": null,
      "outputs": [
        {
          "output_type": "stream",
          "name": "stdout",
          "text": [
            "    Rok  Gdansk  Poznan  Szczecin\n",
            "0  1900     170     110       210\n",
            "1  1925     210     220       254\n",
            "2  1939     250     274       287\n",
            "3  1946     117     267        72\n",
            "4  1950     194     320       178\n",
            "5  1960     286     408       269\n",
            "6  1970     365     471       338\n",
            "7  1980     456     552       388\n",
            "8  1990     465     590       413\n",
            "9  2000     462     574       416\n",
            "    Rok  Gdansk  Poznan  Szczecin\n",
            "0  1900     170     110       210\n",
            "1  1925     210     220       254\n",
            "2  1939     250     274       287\n",
            "3  1946     117     267        72\n",
            "4  1950     194     320       178\n",
            "5  1960     286     408       269\n",
            "6  1970     365     471       338\n",
            "7  1980     456     552       388\n",
            "8  1990     465     590       413\n",
            "9  2000     462     574       416\n",
            "0  2010     460     555       405\n",
            "0    1900\n",
            "1    1925\n",
            "2    1939\n",
            "3    1946\n",
            "4    1950\n",
            "5    1960\n",
            "6    1970\n",
            "7    1980\n",
            "8    1990\n",
            "9    2000\n",
            "0    2010\n",
            "Name: Rok, dtype: int64\n",
            "0    170\n",
            "1    210\n",
            "2    250\n",
            "3    117\n",
            "4    194\n",
            "5    286\n",
            "6    365\n",
            "7    456\n",
            "8    465\n",
            "9    462\n",
            "0    460\n",
            "Name: Gdansk, dtype: int64\n"
          ]
        },
        {
          "output_type": "execute_result",
          "data": {
            "text/plain": [
              "<matplotlib.legend.Legend at 0x7f26ab9a3050>"
            ]
          },
          "metadata": {},
          "execution_count": 82
        },
        {
          "output_type": "display_data",
          "data": {
            "image/png": "[encoded data removed]",
            "text/plain": [
              "<Figure size 432x288 with 1 Axes>"
            ]
          },
          "metadata": {
            "needs_background": "light"
          }
        }
      ]
    }
  ]
}